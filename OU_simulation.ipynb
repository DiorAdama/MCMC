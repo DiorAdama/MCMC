{
 "cells": [
  {
   "cell_type": "markdown",
   "metadata": {},
   "source": [
    "# simulation du processus d'Ornstein Uhlenbeck\n",
    "\n",
    "Le but de ce jupyter notebook est de simuler un processus d'Ornstein Uhlenbeck "
   ]
  },
  {
   "cell_type": "code",
   "execution_count": null,
   "metadata": {},
   "outputs": [],
   "source": []
  }
 ],
 "metadata": {
  "kernelspec": {
   "display_name": "Python 3.7.4 ('base')",
   "language": "python",
   "name": "python3"
  },
  "language_info": {
   "name": "python",
   "version": "3.7.4"
  },
  "orig_nbformat": 4,
  "vscode": {
   "interpreter": {
    "hash": "033a9e066f755cd6c6e55220443bde9e5171677a74c4ce95f21f3b7b6c712cf2"
   }
  }
 },
 "nbformat": 4,
 "nbformat_minor": 2
}
