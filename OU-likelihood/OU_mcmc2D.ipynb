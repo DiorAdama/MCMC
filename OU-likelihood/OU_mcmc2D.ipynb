{
 "cells": [
  {
   "cell_type": "markdown",
   "metadata": {},
   "source": [
    "# Ornstein Uhlenbeck calibration by MCMC\n",
    "\n",
    "The goal is to estimate the parameters of an Ornstein Uhlenbeck model. To do this we will:\n",
    "+ Implement the Likelihood Function of the OU model : $L(\\alpha, \\beta, \\gamma, x_{t_1}, x_{t_2}, ..., x_{t_n})$\n",
    "+ Extract data from the simulations implemented in OU_sumulation.ipynb: $x_{t_1}, x_{t_2}, ..., x_{t_n}$\n",
    "+ Estimate the parameters of the simulation Using an MCMC optimization algorithm"
   ]
  },
  {
   "attachments": {},
   "cell_type": "markdown",
   "metadata": {},
   "source": [
    "### Likelihood Function\n",
    "\n",
    "The Ornstein Uhlenbeck process is a Markov Chain. For a sample path $x_0, x_{\\frac{T}{N}}, x_{\\frac{2T}{N}}, ..., x_T$, the likelihood function is then equal to:\n",
    "\n",
    "$$L(\\alpha, \\beta, \\gamma, x_0, x_{\\frac{T}{N}}, x_{\\frac{2T}{N}}, ..., x_T) = \\prod_{k=0}^{N-1}{f(x_{\\frac{(k+1)T}{N}} | x_{\\frac{kT}{N}})}$$\n",
    "where $f$ is the conditional probability density function of the process.\n",
    "\n",
    "Given $X_{\\frac{kT}{N}}$, the value of the Ornstein Uhlenbeck process at time $\\frac{kT}{N}$, $X_{\\frac{(k+1)T}{N}}$ is normally distributed with:\n",
    "\n",
    "$$E(X_{\\frac{(k+1)T}{N}} | X_{\\frac{kT}{N}}) = X_{\\frac{kT}{N}}e^{-\\alpha T/N} + \\gamma(1-e^{-\\beta T/N})$$\n",
    "\n",
    "$$ Var(X_{\\frac{(k+1)T}{N}} | X_{\\frac{kT}{N}}) = \\frac{\\beta^2}{2\\alpha}(1-e^{-2\\alpha T/N}) $$\n",
    "\n",
    "Let's denote $E_k$ the previous expectation and $V$ the previous variance (doesn't depend on k). The likelihood function over a sample path $x_0, x_{\\frac{T}{N}}, x_{\\frac{2T}{N}}, ..., x_T$ of the Ornstein Uhlenbeck process is then equal to:\n",
    "\n",
    "$$\\prod_{k=0}^{N-1}{\\frac{1}{\\sqrt{2\\pi V}} e^{-\\frac{(x_{(k+1)T/N} - E_k)^2}{2V}}}$$\n",
    "\n",
    "Consequently, the negative log likelihood is equal to:\n",
    "\n",
    "$$NLL(\\alpha, \\beta, \\gamma) = \\sum_{k=0}^{N-1}{\\frac{(x_{(k+1)T/N} - E_k)^2}{2V} + ln(2\\pi V)/2 }$$\n",
    "\n",
    "which we will minimize to find the parameters $\\alpha$, $\\beta$ and $\\gamma$."
   ]
  },
  {
   "cell_type": "code",
   "execution_count": 1,
   "metadata": {},
   "outputs": [],
   "source": [
    "from utils import *\n",
    "\n",
    "import matplotlib.pyplot as plt\n",
    "from numpy import exp, log, pi\n",
    "import numpy as np\n",
    "\n",
    "def likelihood(T, N, alpha, beta, gamma, path):\n",
    "    h = T/N\n",
    "    exp_alpha_h = exp(-alpha*h)\n",
    "    if type(alpha) is int and alpha == 0:\n",
    "        V = h*beta**2\n",
    "    else:\n",
    "        V = (beta**2)*(1-exp_alpha_h**2)/(2*alpha)\n",
    "    \n",
    "    ans = N*log(2*pi*V)/2\n",
    "    for k in range(N):\n",
    "        Ek = path[k]*exp_alpha_h + gamma*(1-exp_alpha_h)\n",
    "        ans += ((path[k+1] - Ek)**2)/(2*V)\n",
    "    return ans\n"
   ]
  },
  {
   "cell_type": "markdown",
   "metadata": {},
   "source": [
    "### Class for the parameters"
   ]
  },
  {
   "cell_type": "code",
   "execution_count": 2,
   "metadata": {},
   "outputs": [],
   "source": [
    "class OU_Parameters:\n",
    "    def __init__(self,alpha,beta,gamma) -> None:\n",
    "        self.alpha=alpha\n",
    "        self.beta=beta\n",
    "        self.gamma=gamma\n",
    "    \n",
    "    def __str__(self) -> str:\n",
    "        s ='\\n==== OU Parameters ====\\n'\n",
    "        s+='   alpha : '+str(self.alpha)+'\\n'\n",
    "        s+='   beta  : '+str(self.beta)+'\\n'\n",
    "        s+='   gamma : '+str(self.gamma)+'\\n'\n",
    "        s+='==== OU Parameters ====\\n'+'\\n'\n",
    "        return s"
   ]
  },
  {
   "attachments": {},
   "cell_type": "markdown",
   "metadata": {},
   "source": [
    "### Defintion of the boundaries"
   ]
  },
  {
   "cell_type": "code",
   "execution_count": 3,
   "metadata": {},
   "outputs": [],
   "source": [
    "minParams = OU_Parameters(alpha=0,beta=1,gamma=1)\n",
    "maxParams = OU_Parameters(alpha=0.1,beta=3,gamma=5)\n",
    "\n",
    "# alphaBoundaries = (0 , 0.1)\n",
    "# betaBoundaries  = (1 , 3  )\n",
    "# gammaBoundaries = (1 , 5  )"
   ]
  },
  {
   "attachments": {},
   "cell_type": "markdown",
   "metadata": {},
   "source": [
    "### Code for estimation plot"
   ]
  },
  {
   "cell_type": "code",
   "execution_count": 4,
   "metadata": {},
   "outputs": [],
   "source": [
    "def estimation_plot(T,N,x0,params,traceParams,paramToPlot):\n",
    "    plt.figure() \n",
    "    path = OU_process(T, N, x0, params.alpha, params.beta, params.gamma)\n",
    "\n",
    "    if paramToPlot == 'alpha':\n",
    "        NLL = likelihood(T, N, traceParams, params.beta, params.gamma, path)\n",
    "    elif paramToPlot == 'beta':\n",
    "        NLL = likelihood(T, N, params.alpha, traceParams, params.gamma, path)\n",
    "    elif paramToPlot == 'gamma':\n",
    "        NLL = likelihood(T, N, params.alpha, params.beta, traceParams, path)\n",
    "        \n",
    "    plt.plot(traceParams, NLL)\n",
    "    plt.show()"
   ]
  },
  {
   "cell_type": "markdown",
   "metadata": {},
   "source": [
    "### Estimating $\\alpha$\n",
    "+ $x_0$ should be far from $\\gamma$"
   ]
  },
  {
   "cell_type": "code",
   "execution_count": 5,
   "metadata": {},
   "outputs": [
    {
     "data": {
      "image/png": "[encoded data removed]",
      "text/plain": [
       "<Figure size 432x288 with 1 Axes>"
      ]
     },
     "metadata": {
      "needs_background": "light"
     },
     "output_type": "display_data"
    }
   ],
   "source": [
    "estimation_plot(\n",
    "    T = 50, \n",
    "    N = 100000, \n",
    "    x0 = 100,\n",
    "    params = OU_Parameters(alpha=0.05,beta = 1,gamma = 3),\n",
    "    traceParams = np.linspace(0.01, 0.1, 100),\n",
    "    paramToPlot='alpha')"
   ]
  },
  {
   "cell_type": "markdown",
   "metadata": {},
   "source": [
    "### Estimating $\\beta$\n",
    "+ $T$ should be small (to focus on the first steps of the process)\n",
    "+ $\\beta > 0$ "
   ]
  },
  {
   "cell_type": "code",
   "execution_count": 6,
   "metadata": {},
   "outputs": [
    {
     "data": {
      "image/png": "[encoded data removed]",
      "text/plain": [
       "<Figure size 432x288 with 1 Axes>"
      ]
     },
     "metadata": {
      "needs_background": "light"
     },
     "output_type": "display_data"
    }
   ],
   "source": [
    "beta = 2\n",
    "estimation_plot(\n",
    "    T = 0.05, \n",
    "    N = 100000, \n",
    "    x0 = 100,\n",
    "    params = OU_Parameters(alpha=0.05,beta = beta,gamma = 0),\n",
    "    traceParams = np.linspace(beta-1, beta + 1,100),\n",
    "    paramToPlot='beta')"
   ]
  },
  {
   "cell_type": "markdown",
   "metadata": {},
   "source": [
    "### Estimating $\\gamma$\n",
    "+ $T$ should be large enough, to allow the process to converge to $\\gamma$"
   ]
  },
  {
   "cell_type": "code",
   "execution_count": 7,
   "metadata": {},
   "outputs": [
    {
     "data": {
      "image/png": "[encoded data removed]",
      "text/plain": [
       "<Figure size 432x288 with 1 Axes>"
      ]
     },
     "metadata": {
      "needs_background": "light"
     },
     "output_type": "display_data"
    }
   ],
   "source": [
    "gamma = 3\n",
    "estimation_plot(\n",
    "    T = 1000, \n",
    "    N = 100000, \n",
    "    x0 = 0,\n",
    "    params = OU_Parameters(alpha=0.05,beta = 1,gamma = gamma),\n",
    "    traceParams = np.linspace(gamma-2, gamma+2, 100),\n",
    "    paramToPlot='gamma')"
   ]
  },
  {
   "attachments": {},
   "cell_type": "markdown",
   "metadata": {},
   "source": [
    "## Estimating all parameters with Metropolis-Hastings"
   ]
  },
  {
   "attachments": {},
   "cell_type": "markdown",
   "metadata": {},
   "source": [
    "### Definition of the Markov transition in 2D"
   ]
  },
  {
   "cell_type": "code",
   "execution_count": 8,
   "metadata": {},
   "outputs": [],
   "source": [
    "import random \n",
    "def MarkovTransition(param): \n",
    "    r = random.random()\n",
    "    alpha1 = max(minParams.alpha,min(maxParams.alpha,param.alpha + 2*(r-0.5)*(maxParams.alpha-minParams.alpha)/100))  # uniform distribution on [alpha - alphaBoundaries/10;alpha + alphaBoundaries/10]\n",
    "    r = random.random()\n",
    "    \n",
    "    gamma1 = max(minParams.gamma,min(maxParams.gamma,param.gamma + 2*(r-0.5)*(maxParams.gamma-minParams.gamma)/100))\n",
    "    return OU_Parameters(alpha1,param.beta,gamma1)"
   ]
  },
  {
   "attachments": {},
   "cell_type": "markdown",
   "metadata": {},
   "source": [
    "### Metropolis Hastings algorithm"
   ]
  },
  {
   "cell_type": "code",
   "execution_count": 82,
   "metadata": {},
   "outputs": [],
   "source": [
    "from tqdm import tqdm\n",
    "from math import inf\n",
    "\n",
    "def OU_metropolis_mcmc(n,T,N,path,Xs=None):\n",
    "    if Xs is None:\n",
    "        Xs = OU_Parameters(  alpha = minParams.alpha + random.random()*(maxParams.alpha-minParams.alpha),\n",
    "                        beta = minParams.beta + random.random()*(maxParams.beta-minParams.beta) ,\n",
    "                        gamma = minParams.gamma + random.random()*(maxParams.gamma-minParams.gamma))\n",
    "    \n",
    "    BestX = None\n",
    "    bestNLL = inf\n",
    "    samples = [Xs]\n",
    "    NLLs = [likelihood(T,N,Xs.alpha,Xs.beta,Xs.gamma,path)]\n",
    "\n",
    "    for _ in tqdm(range(n)):\n",
    "        xi = samples[-1]\n",
    "        x = MarkovTransition(xi)\n",
    "        NLL = likelihood(T,N,x.alpha,x.beta,x.gamma,path)\n",
    "        if NLL<bestNLL:\n",
    "            bestNLL=NLL,\n",
    "            BestX=xi\n",
    "\n",
    "        # Computing alpha\n",
    "        if (NLLs[-1]*NLL < 0):                  # stay on the negative side of the likelihood\n",
    "            if NLL < 0:\n",
    "                alpha=1\n",
    "            else:\n",
    "                alpha=0\n",
    "        else:                                   # NLLs[-1] and NLL have the same sign\n",
    "            if NLL < 0:\n",
    "                alpha = NLL/NLLs[-1]\n",
    "            else:\n",
    "                alpha = NLLs[-1]/NLL\n",
    "                \n",
    "        # deciding next sample\n",
    "        u = random.random()\n",
    "        if u < alpha:\n",
    "            samples.append(x)\n",
    "            NLLs.append(NLL)\n",
    "        else:\n",
    "            samples.append(xi)\n",
    "            NLLs.append(NLLs[-1])\n",
    "    return samples,NLLs,BestX,bestNLL"
   ]
  },
  {
   "attachments": {},
   "cell_type": "markdown",
   "metadata": {},
   "source": [
    "## Distribution estimation "
   ]
  },
  {
   "cell_type": "code",
   "execution_count": null,
   "metadata": {},
   "outputs": [],
   "source": [
    "\n",
    "minParams = OU_Parameters(alpha=0,beta=0.45,gamma=0)\n",
    "maxParams = OU_Parameters(alpha=0.1,beta=1.5,gamma=20)\n",
    "paramsToFind = OU_Parameters(alpha=0.05,beta=1,gamma=10)\n",
    "n = 10**5\n",
    "T = 2000\n",
    "N = 1000\n",
    "x0 = 300\n",
    "samples,NLLs,estimatedParam,NLL = OU_metropolis_mcmc(n    = n,\n",
    "                                                T    = T,\n",
    "                                                N    = N,\n",
    "                                                Xs   = OU_Parameters(alpha=0.02,beta=1.75,gamma=2),\n",
    "                                                path = OU_process(  T     = T,\n",
    "                                                                    N     = N,\n",
    "                                                                    x0    = x0, \n",
    "                                                                    alpha = paramsToFind.alpha,\n",
    "                                                                    beta  = paramsToFind.beta,\n",
    "                                                                    gamma = paramsToFind.gamma))\n"
   ]
  },
  {
   "cell_type": "code",
   "execution_count": 96,
   "metadata": {},
   "outputs": [
    {
     "name": "stdout",
     "output_type": "stream",
     "text": [
      "Expected parameters\n",
      "\n",
      "==== OU Parameters ====\n",
      "   alpha : 0.05\n",
      "   beta  : 1\n",
      "   gamma : 10\n",
      "==== OU Parameters ====\n",
      "\n",
      "\n",
      "Estimated parameters\n",
      "\n",
      "==== OU Parameters ====\n",
      "   alpha : 0.052434689388794614\n",
      "   beta  : 1.75\n",
      "   gamma : 10.124750121383247\n",
      "==== OU Parameters ====\n",
      "\n",
      "\n"
     ]
    }
   ],
   "source": [
    "print('Expected parameters')\n",
    "print(paramsToFind)\n",
    "print('Estimated parameters')\n",
    "print(estimatedParam)"
   ]
  },
  {
   "attachments": {},
   "cell_type": "markdown",
   "metadata": {},
   "source": [
    "### Likelihood contour plot"
   ]
  },
  {
   "cell_type": "code",
   "execution_count": 97,
   "metadata": {},
   "outputs": [
    {
     "data": {
      "text/plain": [
       "<matplotlib.legend.Legend at 0x2542951fbc8>"
      ]
     },
     "execution_count": 97,
     "metadata": {},
     "output_type": "execute_result"
    },
    {
     "data": {
      "image/png": "[encoded data removed]",
      "text/plain": [
       "<Figure size 432x288 with 1 Axes>"
      ]
     },
     "metadata": {
      "needs_background": "light"
     },
     "output_type": "display_data"
    }
   ],
   "source": [
    "np.seterr(divide='ignore', invalid='ignore')\n",
    "minParams = OU_Parameters(alpha=0,beta=0.45,gamma=0)\n",
    "maxParams = OU_Parameters(alpha=0.1,beta=1.5,gamma=20)\n",
    "paramsToFind = OU_Parameters(alpha=0.05,beta=1,gamma=10)\n",
    "\n",
    "n = 100\n",
    "x0 = 300\n",
    "N = 10000\n",
    "T = 3000\n",
    "alphas = np.linspace(minParams.alpha, maxParams.alpha, n)\n",
    "beta = paramsToFind.beta\n",
    "gammas = np.linspace(minParams.gamma, maxParams.gamma, n)\n",
    "path = OU_process(T, N, x0, paramsToFind.alpha, paramsToFind.beta, paramsToFind.gamma)\n",
    "\n",
    "As, Gs = np.meshgrid(alphas, gammas)\n",
    "Ls = likelihood(T, N, As, beta, Gs, path)\n",
    "plt.contour(As, Gs, Ls)\n",
    "plt.scatter(paramsToFind.alpha, paramsToFind.gamma, color = \"red\", label=\"true param\")\n",
    "plt.scatter(estimatedParam.alpha, estimatedParam.gamma, color=\"green\", label=\"estimated param\")\n",
    "plt.legend()"
   ]
  }
 ],
 "metadata": {
  "kernelspec": {
   "display_name": "base",
   "language": "python",
   "name": "python3"
  },
  "language_info": {
   "codemirror_mode": {
    "name": "ipython",
    "version": 3
   },
   "file_extension": ".py",
   "mimetype": "text/x-python",
   "name": "python",
   "nbconvert_exporter": "python",
   "pygments_lexer": "ipython3",
   "version": "3.7.4"
  },
  "orig_nbformat": 4,
  "vscode": {
   "interpreter": {
    "hash": "033a9e066f755cd6c6e55220443bde9e5171677a74c4ce95f21f3b7b6c712cf2"
   }
  }
 },
 "nbformat": 4,
 "nbformat_minor": 2
}
