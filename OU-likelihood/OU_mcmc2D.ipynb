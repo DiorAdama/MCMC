{
 "cells": [
  {
   "cell_type": "markdown",
   "metadata": {},
   "source": [
    "# Ornstein Uhlenbeck calibration by MCMC\n",
    "\n",
    "The goal is to estimate the parameters of an Ornstein Uhlenbeck model. To do this we will:\n",
    "+ Implement the Likelihood Function of the OU model : $L(\\alpha, \\beta, \\gamma, x_{t_1}, x_{t_2}, ..., x_{t_n})$\n",
    "+ Extract data from the simulations implemented in OU_sumulation.ipynb: $x_{t_1}, x_{t_2}, ..., x_{t_n}$\n",
    "+ Estimate the parameters of the simulation Using an MCMC optimization algorithm"
   ]
  },
  {
   "attachments": {},
   "cell_type": "markdown",
   "metadata": {},
   "source": [
    "### Likelihood Function\n",
    "\n",
    "The Ornstein Uhlenbeck process is a Markov Chain. For a sample path $x_0, x_{\\frac{T}{N}}, x_{\\frac{2T}{N}}, ..., x_T$, the likelihood function is then equal to:\n",
    "\n",
    "$$L(\\alpha, \\beta, \\gamma, x_0, x_{\\frac{T}{N}}, x_{\\frac{2T}{N}}, ..., x_T) = \\prod_{k=0}^{N-1}{f(x_{\\frac{(k+1)T}{N}} | x_{\\frac{kT}{N}})}$$\n",
    "where $f$ is the conditional probability density function of the process.\n",
    "\n",
    "Given $X_{\\frac{kT}{N}}$, the value of the Ornstein Uhlenbeck process at time $\\frac{kT}{N}$, $X_{\\frac{(k+1)T}{N}}$ is normally distributed with:\n",
    "\n",
    "$$E(X_{\\frac{(k+1)T}{N}} | X_{\\frac{kT}{N}}) = X_{\\frac{kT}{N}}e^{-\\alpha T/N} + \\gamma(1-e^{-\\beta T/N})$$\n",
    "\n",
    "$$ Var(X_{\\frac{(k+1)T}{N}} | X_{\\frac{kT}{N}}) = \\frac{\\beta^2}{2\\alpha}(1-e^{-2\\alpha T/N}) $$\n",
    "\n",
    "Let's denote $E_k$ the previous expectation and $V$ the previous variance (doesn't depend on k). The likelihood function over a sample path $x_0, x_{\\frac{T}{N}}, x_{\\frac{2T}{N}}, ..., x_T$ of the Ornstein Uhlenbeck process is then equal to:\n",
    "\n",
    "$$\\prod_{k=0}^{N-1}{\\frac{1}{\\sqrt{2\\pi V}} e^{-\\frac{(x_{(k+1)T/N} - E_k)^2}{2V}}}$$\n",
    "\n",
    "Consequently, the negative log likelihood is equal to:\n",
    "\n",
    "$$NLL(\\alpha, \\beta, \\gamma) = \\sum_{k=0}^{N-1}{\\frac{(x_{(k+1)T/N} - E_k)^2}{2V} + ln(2\\pi V)/2 }$$\n",
    "\n",
    "which we will minimize to find the parameters $\\alpha$, $\\beta$ and $\\gamma$."
   ]
  },
  {
   "cell_type": "code",
   "execution_count": 1,
   "metadata": {},
   "outputs": [],
   "source": [
    "from utils import *\n",
    "\n",
    "import matplotlib.pyplot as plt\n",
    "from numpy import exp, log, pi\n",
    "import numpy as np\n",
    "\n",
    "def likelihood(T, N, alpha, beta, gamma, path):\n",
    "    h = T/N\n",
    "    exp_alpha_h = exp(-alpha*h)\n",
    "    if type(alpha) is int and alpha == 0:\n",
    "        V = h*beta**2\n",
    "    else:\n",
    "        V = (beta**2)*(1-exp_alpha_h**2)/(2*alpha)\n",
    "    \n",
    "    ans = N*log(2*pi*V)/2\n",
    "    for k in range(N):\n",
    "        Ek = path[k]*exp_alpha_h + gamma*(1-exp_alpha_h)\n",
    "        ans += ((path[k+1] - Ek)**2)/(2*V)\n",
    "    return ans\n"
   ]
  },
  {
   "cell_type": "markdown",
   "metadata": {},
   "source": [
    "### Class for the parameters"
   ]
  },
  {
   "cell_type": "code",
   "execution_count": 2,
   "metadata": {},
   "outputs": [],
   "source": [
    "class OU_Parameters:\n",
    "    def __init__(self,alpha,beta,gamma) -> None:\n",
    "        self.alpha=alpha\n",
    "        self.beta=beta\n",
    "        self.gamma=gamma\n",
    "    \n",
    "    def __str__(self) -> str:\n",
    "        s ='\\n==== OU Parameters ====\\n'\n",
    "        s+='   alpha : '+str(self.alpha)+'\\n'\n",
    "        s+='   beta  : '+str(self.beta)+'\\n'\n",
    "        s+='   gamma : '+str(self.gamma)+'\\n'\n",
    "        s+='==== OU Parameters ====\\n'+'\\n'\n",
    "        return s"
   ]
  },
  {
   "attachments": {},
   "cell_type": "markdown",
   "metadata": {},
   "source": [
    "### Defintion of the boundaries"
   ]
  },
  {
   "cell_type": "code",
   "execution_count": 3,
   "metadata": {},
   "outputs": [],
   "source": [
    "minParams = OU_Parameters(alpha=0,beta=1,gamma=1)\n",
    "maxParams = OU_Parameters(alpha=0.1,beta=3,gamma=5)\n",
    "\n",
    "# alphaBoundaries = (0 , 0.1)\n",
    "# betaBoundaries  = (1 , 3  )\n",
    "# gammaBoundaries = (1 , 5  )"
   ]
  },
  {
   "attachments": {},
   "cell_type": "markdown",
   "metadata": {},
   "source": [
    "### Code for estimation plot"
   ]
  },
  {
   "cell_type": "code",
   "execution_count": 4,
   "metadata": {},
   "outputs": [],
   "source": [
    "def estimation_plot(T,N,x0,params,traceParams,paramToPlot):\n",
    "    plt.figure() \n",
    "    path = OU_process(T, N, x0, params.alpha, params.beta, params.gamma)\n",
    "\n",
    "    if paramToPlot == 'alpha':\n",
    "        NLL = likelihood(T, N, traceParams, params.beta, params.gamma, path)\n",
    "    elif paramToPlot == 'beta':\n",
    "        NLL = likelihood(T, N, params.alpha, traceParams, params.gamma, path)\n",
    "    elif paramToPlot == 'gamma':\n",
    "        NLL = likelihood(T, N, params.alpha, params.beta, traceParams, path)\n",
    "        \n",
    "    plt.plot(traceParams, NLL)\n",
    "    plt.show()"
   ]
  },
  {
   "cell_type": "markdown",
   "metadata": {},
   "source": [
    "### Estimating $\\alpha$\n",
    "+ $x_0$ should be far from $\\gamma$"
   ]
  },
  {
   "cell_type": "code",
   "execution_count": 5,
   "metadata": {},
   "outputs": [
    {
     "data": {
      "image/png": "[encoded data removed]",
      "text/plain": [
       "<Figure size 432x288 with 1 Axes>"
      ]
     },
     "metadata": {
      "needs_background": "light"
     },
     "output_type": "display_data"
    }
   ],
   "source": [
    "estimation_plot(\n",
    "    T = 50, \n",
    "    N = 100000, \n",
    "    x0 = 100,\n",
    "    params = OU_Parameters(alpha=0.05,beta = 1,gamma = 3),\n",
    "    traceParams = np.linspace(0.01, 0.1, 100),\n",
    "    paramToPlot='alpha')"
   ]
  },
  {
   "cell_type": "markdown",
   "metadata": {},
   "source": [
    "### Estimating $\\beta$\n",
    "+ $T$ should be small (to focus on the first steps of the process)\n",
    "+ $\\beta > 0$ "
   ]
  },
  {
   "cell_type": "code",
   "execution_count": 6,
   "metadata": {},
   "outputs": [
    {
     "data": {
      "image/png": "[encoded data removed]",
      "text/plain": [
       "<Figure size 432x288 with 1 Axes>"
      ]
     },
     "metadata": {
      "needs_background": "light"
     },
     "output_type": "display_data"
    }
   ],
   "source": [
    "beta = 2\n",
    "estimation_plot(\n",
    "    T = 0.05, \n",
    "    N = 100000, \n",
    "    x0 = 100,\n",
    "    params = OU_Parameters(alpha=0.05,beta = beta,gamma = 0),\n",
    "    traceParams = np.linspace(beta-1, beta + 1,100),\n",
    "    paramToPlot='beta')"
   ]
  },
  {
   "cell_type": "markdown",
   "metadata": {},
   "source": [
    "### Estimating $\\gamma$\n",
    "+ $T$ should be large enough, to allow the process to converge to $\\gamma$"
   ]
  },
  {
   "cell_type": "code",
   "execution_count": 7,
   "metadata": {},
   "outputs": [
    {
     "data": {
      "image/png": "[encoded data removed]",
      "text/plain": [
       "<Figure size 432x288 with 1 Axes>"
      ]
     },
     "metadata": {
      "needs_background": "light"
     },
     "output_type": "display_data"
    }
   ],
   "source": [
    "gamma = 3\n",
    "estimation_plot(\n",
    "    T = 1000, \n",
    "    N = 100000, \n",
    "    x0 = 0,\n",
    "    params = OU_Parameters(alpha=0.05,beta = 1,gamma = gamma),\n",
    "    traceParams = np.linspace(gamma-2, gamma+2, 100),\n",
    "    paramToPlot='gamma')"
   ]
  },
  {
   "attachments": {},
   "cell_type": "markdown",
   "metadata": {},
   "source": [
    "## Estimating all parameters with Metropolis-Hastings"
   ]
  },
  {
   "attachments": {},
   "cell_type": "markdown",
   "metadata": {},
   "source": [
    "### Definition of the Markov transition in 2D"
   ]
  },
  {
   "cell_type": "code",
   "execution_count": 8,
   "metadata": {},
   "outputs": [],
   "source": [
    "import random \n",
    "def MarkovTransition(param): \n",
    "    r = random.random()\n",
    "    alpha1 = max(minParams.alpha,min(maxParams.alpha,param.alpha + 2*(r-0.5)*(maxParams.alpha-minParams.alpha)/100))  # uniform distribution on [alpha - alphaBoundaries/10;alpha + alphaBoundaries/10]\n",
    "    r = random.random()\n",
    "    \n",
    "    gamma1 = max(minParams.gamma,min(maxParams.gamma,param.gamma + 2*(r-0.5)*(maxParams.gamma-minParams.gamma)/100))\n",
    "    return OU_Parameters(alpha1,param.beta,gamma1)"
   ]
  },
  {
   "attachments": {},
   "cell_type": "markdown",
   "metadata": {},
   "source": [
    "### Metropolis Hastings algorithm"
   ]
  },
  {
   "cell_type": "code",
   "execution_count": 82,
   "metadata": {},
   "outputs": [],
   "source": [
    "from tqdm import tqdm\n",
    "from math import inf\n",
    "\n",
    "def OU_metropolis_mcmc(n,T,N,path,Xs=None):\n",
    "    if Xs is None:\n",
    "        Xs = OU_Parameters(  alpha = minParams.alpha + random.random()*(maxParams.alpha-minParams.alpha),\n",
    "                        beta = minParams.beta + random.random()*(maxParams.beta-minParams.beta) ,\n",
    "                        gamma = minParams.gamma + random.random()*(maxParams.gamma-minParams.gamma))\n",
    "    \n",
    "    BestX = None\n",
    "    bestNLL = inf\n",
    "    samples = [Xs]\n",
    "    NLLs = [likelihood(T,N,Xs.alpha,Xs.beta,Xs.gamma,path)]\n",
    "\n",
    "    for _ in tqdm(range(n)):\n",
    "        xi = samples[-1]\n",
    "        x = MarkovTransition(xi)\n",
    "        NLL = likelihood(T,N,x.alpha,x.beta,x.gamma,path)\n",
    "        if NLL<bestNLL:\n",
    "            bestNLL=NLL,\n",
    "            BestX=xi\n",
    "\n",
    "        # Computing alpha\n",
    "        if (NLLs[-1]*NLL < 0):                  # stay on the negative side of the likelihood\n",
    "            if NLL < 0:\n",
    "                alpha=1\n",
    "            else:\n",
    "                alpha=0\n",
    "        else:                                   # NLLs[-1] and NLL have the same sign\n",
    "            if NLL < 0:\n",
    "                alpha = NLL/NLLs[-1]\n",
    "            else:\n",
    "                alpha = NLLs[-1]/NLL\n",
    "                \n",
    "        # deciding next sample\n",
    "        u = random.random()\n",
    "        if u < alpha:\n",
    "            samples.append(x)\n",
    "            NLLs.append(NLL)\n",
    "        else:\n",
    "            samples.append(xi)\n",
    "            NLLs.append(NLLs[-1])\n",
    "    return samples,NLLs,BestX,bestNLL"
   ]
  },
  {
   "attachments": {},
   "cell_type": "markdown",
   "metadata": {},
   "source": [
    "## Distribution estimation "
   ]
  },
  {
   "cell_type": "code",
   "execution_count": 85,
   "metadata": {},
   "outputs": [
    {
     "name": "stderr",
     "output_type": "stream",
     "text": [
      "\n",
      "  0%|          | 0/10000 [00:00<?, ?it/s]\n",
      "  1%|          | 59/10000 [00:00<00:16, 586.86it/s]\n",
      "  1%|          | 116/10000 [00:00<00:17, 581.22it/s]\n",
      "  2%|▏         | 175/10000 [00:00<00:16, 581.34it/s]\n",
      "  2%|▏         | 241/10000 [00:00<00:16, 602.39it/s]\n",
      "  3%|▎         | 309/10000 [00:00<00:15, 622.77it/s]\n",
      "  4%|▍         | 375/10000 [00:00<00:15, 632.05it/s]\n",
      "  4%|▍         | 436/10000 [00:00<00:15, 623.00it/s]\n",
      "  5%|▌         | 501/10000 [00:00<00:15, 629.16it/s]\n",
      "  6%|▌         | 561/10000 [00:00<00:16, 584.79it/s]\n",
      "  6%|▋         | 625/10000 [00:01<00:15, 599.49it/s]\n",
      "  7%|▋         | 690/10000 [00:01<00:15, 613.24it/s]\n",
      "  8%|▊         | 753/10000 [00:01<00:14, 617.98it/s]\n",
      "  8%|▊         | 815/10000 [00:01<00:14, 613.73it/s]\n",
      "  9%|▉         | 882/10000 [00:01<00:14, 628.56it/s]\n",
      " 10%|▉         | 952/10000 [00:01<00:13, 648.40it/s]\n",
      " 10%|█         | 1021/10000 [00:01<00:13, 659.82it/s]\n",
      " 11%|█         | 1094/10000 [00:01<00:13, 678.21it/s]\n",
      " 12%|█▏        | 1168/10000 [00:01<00:12, 693.92it/s]\n",
      " 12%|█▏        | 1242/10000 [00:01<00:12, 704.01it/s]\n",
      " 13%|█▎        | 1313/10000 [00:02<00:12, 693.65it/s]\n",
      " 14%|█▍        | 1383/10000 [00:02<00:12, 685.95it/s]\n",
      " 15%|█▍        | 1452/10000 [00:02<00:12, 659.38it/s]\n",
      " 15%|█▌        | 1519/10000 [00:02<00:13, 643.39it/s]\n",
      " 16%|█▌        | 1584/10000 [00:02<00:13, 634.13it/s]\n",
      " 16%|█▋        | 1648/10000 [00:02<00:13, 630.80it/s]\n",
      " 17%|█▋        | 1716/10000 [00:02<00:12, 644.72it/s]\n",
      " 18%|█▊        | 1784/10000 [00:02<00:12, 652.40it/s]\n",
      " 18%|█▊        | 1850/10000 [00:02<00:12, 653.23it/s]\n",
      " 19%|█▉        | 1917/10000 [00:02<00:12, 657.51it/s]\n",
      " 20%|█▉        | 1989/10000 [00:03<00:11, 673.48it/s]\n",
      " 21%|██        | 2063/10000 [00:03<00:11, 689.63it/s]\n",
      " 21%|██▏       | 2137/10000 [00:03<00:11, 700.51it/s]\n",
      " 22%|██▏       | 2210/10000 [00:03<00:10, 708.57it/s]\n",
      " 23%|██▎       | 2284/10000 [00:03<00:10, 717.57it/s]\n",
      " 24%|██▎       | 2358/10000 [00:03<00:10, 721.87it/s]\n",
      " 24%|██▍       | 2431/10000 [00:03<00:10, 721.17it/s]\n",
      " 25%|██▌       | 2504/10000 [00:03<00:11, 645.02it/s]\n",
      " 26%|██▌       | 2572/10000 [00:03<00:11, 653.76it/s]\n",
      " 26%|██▋       | 2640/10000 [00:04<00:11, 661.03it/s]\n",
      " 27%|██▋       | 2712/10000 [00:04<00:10, 675.34it/s]\n",
      " 28%|██▊       | 2781/10000 [00:04<00:10, 666.97it/s]\n",
      " 29%|██▊       | 2853/10000 [00:04<00:10, 679.94it/s]\n",
      " 29%|██▉       | 2925/10000 [00:04<00:10, 691.46it/s]\n",
      " 30%|██▉       | 2996/10000 [00:04<00:10, 694.11it/s]\n",
      " 31%|███       | 3067/10000 [00:04<00:09, 698.20it/s]\n",
      " 31%|███▏      | 3137/10000 [00:04<00:09, 696.77it/s]\n",
      " 32%|███▏      | 3210/10000 [00:04<00:09, 704.36it/s]\n",
      " 33%|███▎      | 3283/10000 [00:04<00:09, 710.80it/s]\n",
      " 34%|███▎      | 3358/10000 [00:05<00:09, 720.66it/s]\n",
      " 34%|███▍      | 3431/10000 [00:05<00:09, 719.31it/s]\n",
      " 35%|███▌      | 3503/10000 [00:05<00:09, 687.76it/s]\n",
      " 36%|███▌      | 3573/10000 [00:05<00:09, 657.90it/s]\n",
      " 36%|███▋      | 3640/10000 [00:05<00:09, 636.43it/s]\n",
      " 37%|███▋      | 3705/10000 [00:05<00:09, 637.21it/s]\n",
      " 38%|███▊      | 3770/10000 [00:05<00:09, 637.10it/s]\n",
      " 38%|███▊      | 3834/10000 [00:05<00:09, 629.40it/s]\n",
      " 39%|███▉      | 3898/10000 [00:05<00:09, 622.52it/s]\n",
      " 40%|███▉      | 3961/10000 [00:06<00:09, 624.35it/s]\n",
      " 40%|████      | 4024/10000 [00:06<00:09, 622.75it/s]\n",
      " 41%|████      | 4088/10000 [00:06<00:09, 626.45it/s]\n",
      " 42%|████▏     | 4151/10000 [00:06<00:09, 620.39it/s]\n",
      " 42%|████▏     | 4214/10000 [00:06<00:09, 610.74it/s]\n",
      " 43%|████▎     | 4276/10000 [00:06<00:09, 598.30it/s]\n",
      " 43%|████▎     | 4348/10000 [00:06<00:08, 628.22it/s]\n",
      " 44%|████▍     | 4423/10000 [00:06<00:08, 659.11it/s]\n",
      " 45%|████▍     | 4498/10000 [00:06<00:08, 681.98it/s]\n",
      " 46%|████▌     | 4569/10000 [00:06<00:07, 690.03it/s]\n",
      " 46%|████▋     | 4644/10000 [00:07<00:07, 703.43it/s]\n",
      " 47%|████▋     | 4715/10000 [00:07<00:08, 644.66it/s]\n",
      " 48%|████▊     | 4783/10000 [00:07<00:08, 648.67it/s]\n",
      " 48%|████▊     | 4849/10000 [00:07<00:07, 651.61it/s]\n",
      " 49%|████▉     | 4918/10000 [00:07<00:07, 661.91it/s]\n",
      " 50%|████▉     | 4993/10000 [00:07<00:07, 683.49it/s]\n",
      " 51%|█████     | 5062/10000 [00:07<00:07, 679.35it/s]\n",
      " 51%|█████▏    | 5131/10000 [00:07<00:07, 675.56it/s]\n",
      " 52%|█████▏    | 5206/10000 [00:07<00:06, 695.29it/s]\n",
      " 53%|█████▎    | 5282/10000 [00:07<00:06, 712.01it/s]\n",
      " 54%|█████▎    | 5355/10000 [00:08<00:06, 716.92it/s]\n",
      " 54%|█████▍    | 5427/10000 [00:08<00:06, 715.66it/s]\n",
      " 55%|█████▌    | 5501/10000 [00:08<00:06, 722.64it/s]\n",
      " 56%|█████▌    | 5575/10000 [00:08<00:06, 726.37it/s]\n",
      " 56%|█████▋    | 5649/10000 [00:08<00:05, 729.29it/s]\n",
      " 57%|█████▋    | 5723/10000 [00:08<00:05, 722.48it/s]\n",
      " 58%|█████▊    | 5797/10000 [00:08<00:05, 726.52it/s]\n",
      " 59%|█████▊    | 5872/10000 [00:08<00:05, 731.99it/s]\n",
      " 59%|█████▉    | 5946/10000 [00:08<00:05, 730.90it/s]\n",
      " 60%|██████    | 6021/10000 [00:08<00:05, 735.58it/s]\n",
      " 61%|██████    | 6097/10000 [00:09<00:05, 742.17it/s]\n",
      " 62%|██████▏   | 6172/10000 [00:09<00:05, 741.95it/s]\n",
      " 62%|██████▏   | 6247/10000 [00:09<00:05, 737.90it/s]\n",
      " 63%|██████▎   | 6321/10000 [00:09<00:04, 738.03it/s]\n",
      " 64%|██████▍   | 6395/10000 [00:09<00:04, 737.46it/s]\n",
      " 65%|██████▍   | 6471/10000 [00:09<00:04, 743.28it/s]\n",
      " 65%|██████▌   | 6546/10000 [00:09<00:04, 744.66it/s]\n",
      " 66%|██████▌   | 6621/10000 [00:09<00:04, 743.17it/s]\n",
      " 67%|██████▋   | 6696/10000 [00:09<00:04, 742.06it/s]\n",
      " 68%|██████▊   | 6771/10000 [00:09<00:04, 740.42it/s]\n",
      " 68%|██████▊   | 6846/10000 [00:10<00:04, 735.56it/s]\n",
      " 69%|██████▉   | 6920/10000 [00:10<00:04, 645.33it/s]\n",
      " 70%|██████▉   | 6992/10000 [00:10<00:04, 665.22it/s]\n",
      " 71%|███████   | 7066/10000 [00:10<00:04, 682.38it/s]\n",
      " 71%|███████▏  | 7141/10000 [00:10<00:04, 700.48it/s]\n",
      " 72%|███████▏  | 7216/10000 [00:10<00:03, 713.30it/s]\n",
      " 73%|███████▎  | 7289/10000 [00:10<00:03, 710.08it/s]\n",
      " 74%|███████▎  | 7361/10000 [00:10<00:03, 700.36it/s]\n",
      " 74%|███████▍  | 7432/10000 [00:11<00:04, 539.43it/s]\n",
      " 75%|███████▍  | 7492/10000 [00:11<00:04, 556.20it/s]\n",
      " 76%|███████▌  | 7552/10000 [00:11<00:04, 559.48it/s]\n",
      " 76%|███████▌  | 7611/10000 [00:11<00:04, 514.35it/s]\n",
      " 77%|███████▋  | 7668/10000 [00:11<00:04, 525.64it/s]\n",
      " 77%|███████▋  | 7723/10000 [00:11<00:05, 424.05it/s]\n",
      " 78%|███████▊  | 7770/10000 [00:11<00:05, 427.50it/s]\n",
      " 78%|███████▊  | 7838/10000 [00:11<00:04, 479.75it/s]\n",
      " 79%|███████▉  | 7891/10000 [00:12<00:04, 485.05it/s]\n",
      " 79%|███████▉  | 7943/10000 [00:12<00:04, 475.28it/s]\n",
      " 80%|████████  | 8011/10000 [00:12<00:03, 522.02it/s]\n",
      " 81%|████████  | 8071/10000 [00:12<00:03, 542.25it/s]\n",
      " 81%|████████▏ | 8141/10000 [00:12<00:03, 580.81it/s]\n",
      " 82%|████████▏ | 8212/10000 [00:12<00:02, 612.63it/s]\n",
      " 83%|████████▎ | 8285/10000 [00:12<00:02, 643.36it/s]\n",
      " 84%|████████▎ | 8355/10000 [00:12<00:02, 652.76it/s]\n",
      " 84%|████████▍ | 8426/10000 [00:12<00:02, 665.20it/s]\n",
      " 85%|████████▍ | 8494/10000 [00:12<00:02, 655.25it/s]\n",
      " 86%|████████▌ | 8565/10000 [00:13<00:02, 670.08it/s]\n",
      " 86%|████████▋ | 8633/10000 [00:13<00:02, 672.44it/s]\n",
      " 87%|████████▋ | 8709/10000 [00:13<00:01, 693.29it/s]\n",
      " 88%|████████▊ | 8784/10000 [00:13<00:01, 708.16it/s]\n",
      " 89%|████████▊ | 8856/10000 [00:13<00:01, 691.74it/s]\n",
      " 89%|████████▉ | 8926/10000 [00:13<00:01, 649.50it/s]\n",
      " 90%|████████▉ | 8992/10000 [00:13<00:01, 614.83it/s]\n",
      " 91%|█████████ | 9055/10000 [00:13<00:01, 610.67it/s]\n",
      " 91%|█████████▏| 9128/10000 [00:13<00:01, 637.77it/s]\n",
      " 92%|█████████▏| 9197/10000 [00:14<00:01, 650.67it/s]\n",
      " 93%|█████████▎| 9263/10000 [00:14<00:01, 626.01it/s]\n",
      " 93%|█████████▎| 9336/10000 [00:14<00:01, 653.90it/s]\n",
      " 94%|█████████▍| 9411/10000 [00:14<00:00, 678.24it/s]\n",
      " 95%|█████████▍| 9485/10000 [00:14<00:00, 695.28it/s]\n",
      " 96%|█████████▌| 9557/10000 [00:14<00:00, 700.90it/s]\n",
      " 96%|█████████▋| 9628/10000 [00:14<00:00, 702.04it/s]\n",
      " 97%|█████████▋| 9702/10000 [00:14<00:00, 712.25it/s]\n",
      " 98%|█████████▊| 9776/10000 [00:14<00:00, 719.31it/s]\n",
      " 98%|█████████▊| 9850/10000 [00:14<00:00, 724.09it/s]\n",
      " 99%|█████████▉| 9923/10000 [00:15<00:00, 661.12it/s]\n",
      "100%|██████████| 10000/10000 [00:15<00:00, 656.35it/s]\n"
     ]
    }
   ],
   "source": [
    "\n",
    "minParams = OU_Parameters(alpha=0,beta=0.45,gamma=0)\n",
    "maxParams = OU_Parameters(alpha=0.1,beta=1.5,gamma=20)\n",
    "paramsToFind = OU_Parameters(alpha=0.05,beta=1,gamma=10)\n",
    "n = 10**4\n",
    "T = 2000\n",
    "N = 1000\n",
    "x0 = 300\n",
    "samples,NLLs,estimatedParam,NLL = OU_metropolis_mcmc(n    = n,\n",
    "                                                T    = T,\n",
    "                                                N    = N,\n",
    "                                                Xs   = OU_Parameters(alpha=0.02,beta=1.75,gamma=2),\n",
    "                                                path = OU_process(  T     = T,\n",
    "                                                                    N     = N,\n",
    "                                                                    x0    = x0, \n",
    "                                                                    alpha = paramsToFind.alpha,\n",
    "                                                                    beta  = paramsToFind.beta,\n",
    "                                                                    gamma = paramsToFind.gamma))\n"
   ]
  },
  {
   "cell_type": "code",
   "execution_count": 86,
   "metadata": {},
   "outputs": [
    {
     "name": "stdout",
     "output_type": "stream",
     "text": [
      "Expected parameters\n",
      "\n",
      "==== OU Parameters ====\n",
      "   alpha : 0.05\n",
      "   beta  : 1\n",
      "   gamma : 10\n",
      "==== OU Parameters ====\n",
      "\n",
      "\n",
      "Estimated parameters\n",
      "\n",
      "==== OU Parameters ====\n",
      "   alpha : 0.05535593489391986\n",
      "   beta  : 1.75\n",
      "   gamma : 9.934529294097697\n",
      "==== OU Parameters ====\n",
      "\n",
      "\n"
     ]
    }
   ],
   "source": [
    "print('Expected parameters')\n",
    "print(paramsToFind)\n",
    "print('Estimated parameters')\n",
    "print(estimatedParam)"
   ]
  },
  {
   "attachments": {},
   "cell_type": "markdown",
   "metadata": {},
   "source": [
    "### Likelihood contour plot"
   ]
  },
  {
   "cell_type": "code",
   "execution_count": 87,
   "metadata": {},
   "outputs": [
    {
     "data": {
      "text/plain": [
       "<matplotlib.legend.Legend at 0x25429500988>"
      ]
     },
     "execution_count": 87,
     "metadata": {},
     "output_type": "execute_result"
    },
    {
     "data": {
      "image/png": "[encoded data removed]",
      "text/plain": [
       "<Figure size 432x288 with 1 Axes>"
      ]
     },
     "metadata": {
      "needs_background": "light"
     },
     "output_type": "display_data"
    }
   ],
   "source": [
    "np.seterr(divide='ignore', invalid='ignore')\n",
    "minParams = OU_Parameters(alpha=0,beta=0.45,gamma=0)\n",
    "maxParams = OU_Parameters(alpha=0.1,beta=1.5,gamma=20)\n",
    "paramsToFind = OU_Parameters(alpha=0.05,beta=1,gamma=10)\n",
    "\n",
    "n = 100\n",
    "x0 = 300\n",
    "N = 10000\n",
    "T = 3000\n",
    "alphas = np.linspace(minParams.alpha, maxParams.alpha, n)\n",
    "beta = paramsToFind.beta\n",
    "gammas = np.linspace(minParams.gamma, maxParams.gamma, n)\n",
    "path = OU_process(T, N, x0, paramsToFind.alpha, paramsToFind.beta, paramsToFind.gamma)\n",
    "\n",
    "As, Gs = np.meshgrid(alphas, gammas)\n",
    "Ls = likelihood(T, N, As, beta, Gs, path)\n",
    "plt.contour(As, Gs, Ls)\n",
    "plt.scatter(paramsToFind.alpha, paramsToFind.gamma, color = \"red\", label=\"true param\")\n",
    "plt.scatter(estimatedParam.alpha, estimatedParam.gamma, color=\"green\", label=\"estimated param\")\n",
    "plt.legend()"
   ]
  }
 ],
 "metadata": {
  "kernelspec": {
   "display_name": "base",
   "language": "python",
   "name": "python3"
  },
  "language_info": {
   "codemirror_mode": {
    "name": "ipython",
    "version": 3
   },
   "file_extension": ".py",
   "mimetype": "text/x-python",
   "name": "python",
   "nbconvert_exporter": "python",
   "pygments_lexer": "ipython3",
   "version": "3.7.4"
  },
  "orig_nbformat": 4,
  "vscode": {
   "interpreter": {
    "hash": "033a9e066f755cd6c6e55220443bde9e5171677a74c4ce95f21f3b7b6c712cf2"
   }
  }
 },
 "nbformat": 4,
 "nbformat_minor": 2
}
