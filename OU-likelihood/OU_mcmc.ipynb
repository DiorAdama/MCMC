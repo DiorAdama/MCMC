{
 "cells": [
  {
   "cell_type": "markdown",
   "metadata": {},
   "source": [
    "# Ornstein Uhlenbeck calibration by MCMC\n",
    "\n",
    "The goal is to estimate the parameters of an Ornstein Uhlenbeck model. To do this we will:\n",
    "+ Implement the Likelihood Function of the OU model : $L(\\alpha, \\beta, \\gamma, x_{t_1}, x_{t_2}, ..., x_{t_n})$\n",
    "+ Extract data from the simulations implemented in OU_sumulation.ipynb: $x_{t_1}, x_{t_2}, ..., x_{t_n}$\n",
    "+ Estimate the parameters of the simulation Using an MCMC optimization algorithm"
   ]
  },
  {
   "cell_type": "markdown",
   "metadata": {},
   "source": [
    "### Likelihood Function\n",
    "\n",
    "The Ornstein Uhlenbeck process is a Markov Chain. For a sample path $x_0, x_{\\frac{T}{N}}, x_{\\frac{2T}{N}}, ..., x_T$, the likelihood function is then equal to:\n",
    "\n",
    "$$L(\\alpha, \\beta, \\gamma, x_0, x_{\\frac{T}{N}}, x_{\\frac{2T}{N}}, ..., x_T) = \\prod_{k=0}^{N-1}{f(x_{\\frac{(k+1)T}{N}} | x_{\\frac{kT}{N}})}$$\n",
    "where $f$ is the conditional probability density function of the process.\n",
    "\n",
    "Given $X_{\\frac{kT}{N}}$, the value of the Ornstein Uhlenbeck process at time $\\frac{kT}{N}$, $X_{\\frac{(k+1)T}{N}}$ is normally distributed with:\n",
    "\n",
    "$$E(X_{\\frac{(k+1)T}{N}} | X_{\\frac{kT}{N}}) = X_{\\frac{kT}{N}}e^{-\\alpha T/N} + \\gamma(1-e^{-\\alpha T/N})$$\n",
    "\n",
    "$$ Var(X_{\\frac{(k+1)T}{N}} | X_{\\frac{kT}{N}}) = \\frac{\\beta^2}{2\\alpha}(1-e^{-2\\alpha T/N}) $$\n",
    "\n",
    "Let's denote $E_k$ the previous expectation and $V$ the previous variance (doesn't depend on k). The likelihood function over a sample path $x_0, x_{\\frac{T}{N}}, x_{\\frac{2T}{N}}, ..., x_T$ of the Ornstein Uhlenbeck process is then equal to:\n",
    "\n",
    "$$\\prod_{k=0}^{N-1}{\\frac{1}{\\sqrt{2\\pi V}} e^{-\\frac{(x_{(k+1)T/N} - E_k)^2}{2V}}}$$\n",
    "\n",
    "Consequently, the negative log likelihood is equal to:\n",
    "\n",
    "$$NLL(\\alpha, \\beta, \\gamma) = \\sum_{k=0}^{N-1}{\\frac{(x_{(k+1)T/N} - E_k)^2}{2V} + ln(2\\pi V)/2 }$$\n",
    "\n",
    "which we will minimize to find the parameters $\\alpha$, $\\beta$ and $\\gamma$."
   ]
  }
 ],
 "metadata": {
  "kernelspec": {
   "display_name": "Python 3.9.15 64-bit",
   "language": "python",
   "name": "python3"
  },
  "language_info": {
   "name": "python",
   "version": "3.9.15"
  },
  "orig_nbformat": 4,
  "vscode": {
   "interpreter": {
    "hash": "a665b5d41d17b532ea9890333293a1b812fa0b73c9c25c950b3cedf1bebd0438"
   }
  }
 },
 "nbformat": 4,
 "nbformat_minor": 2
}
